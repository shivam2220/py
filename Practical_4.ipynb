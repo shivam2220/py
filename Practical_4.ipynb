{
  "nbformat": 4,
  "nbformat_minor": 0,
  "metadata": {
    "colab": {
      "provenance": []
    },
    "kernelspec": {
      "name": "python3",
      "display_name": "Python 3"
    },
    "language_info": {
      "name": "python"
    }
  },
  "cells": [
    {
      "cell_type": "code",
      "execution_count": null,
      "metadata": {
        "id": "LJIfSUSTrvT4"
      },
      "outputs": [],
      "source": [
        "from sklearn.datasets import make_classification\n",
        "import pandas as pd\n",
        "import numpy as np\n",
        "from collections import Counter\n",
        "import matplotlib.pyplot as plt\n",
        "import seaborn as sns\n",
        "import tensorflow as tf\n",
        "from tensorflow.keras import layers, losses\n",
        "from sklearn.model_selection import train_test_split\n",
        "from sklearn.metrics import classification_report"
      ]
    },
    {
      "cell_type": "code",
      "source": [
        "X, y = make_classification(n_samples=100000, n_features=32, n_informative=32,\n",
        "                           n_redundant=0, n_repeated=0, n_classes=2,\n",
        "                           n_clusters_per_class=1,\n",
        "                           weights=[0.995, 0.005],\n",
        "                           class_sep=0.5, random_state=0)"
      ],
      "metadata": {
        "id": "wGbAUvtHuNYM"
      },
      "execution_count": null,
      "outputs": []
    },
    {
      "cell_type": "code",
      "source": [
        "X_train, X_test, y_train, y_test = train_test_split(X, y, test_size=0.2, random_state=42)\n",
        "print('The number of records in the training dataset is', X_train.shape[0])\n",
        "print('The number of records in the test dataset is', X_test.shape[0])\n",
        "print(f\"The training dataset has {sorted(Counter(y_train).items())[0][1]} records for the majority class and {sorted(Counter(y_train).items())[1][1]} records for the minority class.\")"
      ],
      "metadata": {
        "colab": {
          "base_uri": "https://localhost:8080/"
        },
        "id": "LNdQ9wENuUuR",
        "outputId": "c4e5a592-98e3-4ceb-c9fb-597650951962"
      },
      "execution_count": null,
      "outputs": [
        {
          "output_type": "stream",
          "name": "stdout",
          "text": [
            "The number of records in the training dataset is 80000\n",
            "The number of records in the test dataset is 20000\n",
            "The training dataset has 79200 records for the majority class and 800 records for the minority class.\n"
          ]
        }
      ]
    },
    {
      "cell_type": "code",
      "source": [
        "X_train_normal = X_train[np.where(y_train == 0)]\n",
        "input = tf.keras.layers.Input(shape=(32,))\n",
        "encoder = tf.keras.Sequential([\n",
        "  layers.Dense(16, activation='relu'),\n",
        "  layers.Dense(8, activation='relu'),\n",
        "  layers.Dense(4, activation='relu')])(input)\n",
        "decoder = tf.keras.Sequential([\n",
        "      layers.Dense(8, activation=\"relu\"),\n",
        "      layers.Dense(16, activation=\"relu\"),\n",
        "      layers.Dense(32, activation=\"sigmoid\")])(encoder)\n",
        "autoencoder = tf.keras.Model(inputs=input, outputs=decoder)"
      ],
      "metadata": {
        "id": "LUoFujIEubBF"
      },
      "execution_count": null,
      "outputs": []
    },
    {
      "cell_type": "code",
      "source": [
        "autoencoder.compile(optimizer='adam', loss='mae')\n",
        "history = autoencoder.fit(X_train_normal, X_train_normal, \n",
        "          epochs=10, \n",
        "          batch_size=64,\n",
        "          validation_data=(X_test, X_test),\n",
        "          shuffle=True)"
      ],
      "metadata": {
        "colab": {
          "base_uri": "https://localhost:8080/"
        },
        "id": "iWBhgcgLu1E9",
        "outputId": "bc56ab22-76dd-43f2-969a-b9cc41d50179"
      },
      "execution_count": null,
      "outputs": [
        {
          "output_type": "stream",
          "name": "stdout",
          "text": [
            "Epoch 1/10\n",
            "1238/1238 [==============================] - 4s 2ms/step - loss: 2.4685 - val_loss: 2.4703\n",
            "Epoch 2/10\n",
            "1238/1238 [==============================] - 3s 2ms/step - loss: 2.4665 - val_loss: 2.4693\n",
            "Epoch 3/10\n",
            "1238/1238 [==============================] - 3s 3ms/step - loss: 2.4649 - val_loss: 2.4684\n",
            "Epoch 4/10\n",
            "1238/1238 [==============================] - 3s 3ms/step - loss: 2.4637 - val_loss: 2.4676\n",
            "Epoch 5/10\n",
            "1238/1238 [==============================] - 3s 2ms/step - loss: 2.4625 - val_loss: 2.4654\n",
            "Epoch 6/10\n",
            "1238/1238 [==============================] - 3s 2ms/step - loss: 2.4617 - val_loss: 2.4648\n",
            "Epoch 7/10\n",
            "1238/1238 [==============================] - 3s 2ms/step - loss: 2.4611 - val_loss: 2.4642\n",
            "Epoch 8/10\n",
            "1238/1238 [==============================] - 3s 2ms/step - loss: 2.4605 - val_loss: 2.4637\n",
            "Epoch 9/10\n",
            "1238/1238 [==============================] - 4s 3ms/step - loss: 2.4602 - val_loss: 2.4634\n",
            "Epoch 10/10\n",
            "1238/1238 [==============================] - 3s 3ms/step - loss: 2.4597 - val_loss: 2.4634\n"
          ]
        }
      ]
    },
    {
      "cell_type": "code",
      "source": [
        "prediction = autoencoder.predict(X_test)\n",
        "prediction_loss = tf.keras.losses.mae(prediction, X_test)\n",
        "loss_threshold = np.percentile(prediction_loss, 98)\n",
        "print(f'The prediction loss threshold for 2% of outliers is {loss_threshold:.2f}')\n",
        "sns.histplot(prediction_loss, bins=30, alpha=0.8)\n",
        "plt.axvline(x=loss_threshold, color='orange')"
      ],
      "metadata": {
        "colab": {
          "base_uri": "https://localhost:8080/",
          "height": 316
        },
        "id": "-HvaPjaDu3o-",
        "outputId": "e1fd6da0-d8c3-4c4c-fc3d-49bf707eab9f"
      },
      "execution_count": null,
      "outputs": [
        {
          "output_type": "stream",
          "name": "stdout",
          "text": [
            "625/625 [==============================] - 2s 3ms/step\n",
            "The prediction loss threshold for 2% of outliers is 3.46\n"
          ]
        },
        {
          "output_type": "execute_result",
          "data": {
            "text/plain": [
              "<matplotlib.lines.Line2D at 0x7fa59d0e1a90>"
            ]
          },
          "metadata": {},
          "execution_count": 16
        },
        {
          "output_type": "display_data",
          "data": {
            "text/plain": [
              "<Figure size 432x288 with 1 Axes>"
            ],
            "image/png": "[encoded data removed]"
          },
          "metadata": {
            "needs_background": "light"
          }
        }
      ]
    },
    {
      "cell_type": "code",
      "source": [
        "threshold_prediction = [0 if i < loss_threshold else 1 for i in prediction_loss]\n",
        "print(classification_report(y_test, threshold_prediction))"
      ],
      "metadata": {
        "colab": {
          "base_uri": "https://localhost:8080/"
        },
        "id": "t1BtunFzvSRR",
        "outputId": "ae7133e4-70c8-4609-b162-c62b2901c7eb"
      },
      "execution_count": null,
      "outputs": [
        {
          "output_type": "stream",
          "name": "stdout",
          "text": [
            "              precision    recall  f1-score   support\n",
            "\n",
            "           0       0.99      0.98      0.98     19803\n",
            "           1       0.00      0.01      0.00       197\n",
            "\n",
            "    accuracy                           0.97     20000\n",
            "   macro avg       0.50      0.49      0.49     20000\n",
            "weighted avg       0.98      0.97      0.98     20000\n",
            "\n"
          ]
        }
      ]
    }
  ]
}